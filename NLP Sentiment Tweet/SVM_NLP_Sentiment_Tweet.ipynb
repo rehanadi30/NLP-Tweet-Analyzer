{
  "nbformat": 4,
  "nbformat_minor": 0,
  "metadata": {
    "colab": {
      "name": "SVM NLP Sentiment Tweet.ipynb",
      "provenance": [],
      "collapsed_sections": []
    },
    "kernelspec": {
      "name": "python3",
      "display_name": "Python 3"
    },
    "language_info": {
      "name": "python"
    }
  },
  "cells": [
    {
      "cell_type": "markdown",
      "metadata": {
        "id": "Quu5oDAddHcW"
      },
      "source": [
        "# Tweet Sentiment Analyzer\n",
        "Made by: Rehan Adi Satrya - 13518061\n",
        "\n",
        "Tujuan dari aplikasi ini adalah agar pengguna dapat mengetahui apakah ketikan mereka pada media sosial berpotensi menyakiti seseorang"
      ]
    },
    {
      "cell_type": "code",
      "metadata": {
        "id": "36BCqi-MdLhU"
      },
      "source": [
        "#Import Library yang dibutuhkan\n",
        "import pandas as pd\n",
        "import numpy as np\n",
        "import matplotlib.pyplot as plt\n",
        "import random\n",
        "import tensorflow as tf\n",
        "\n",
        "from numpy import array\n",
        "from sklearn.model_selection import train_test_split\n",
        "\n",
        "from tensorflow.keras import regularizers\n",
        "from tensorflow.keras.utils import to_categorical\n",
        "from tensorflow.keras.preprocessing.text import Tokenizer\n",
        "from tensorflow.keras.preprocessing.sequence import pad_sequences\n"
      ],
      "execution_count": 17,
      "outputs": []
    },
    {
      "cell_type": "code",
      "metadata": {
        "colab": {
          "base_uri": "https://localhost:8080/",
          "height": 235
        },
        "id": "p6PQY8SrdOWn",
        "outputId": "4458261f-b5ca-4f79-bf5b-bb37d07ccc04"
      },
      "source": [
        "# Load Dataset\n",
        "data = pd.read_csv('dataset_two.csv', index_col=0)\n",
        "data = data[['Instagram Comment Text', 'Sentiment']]\n",
        "data.head()"
      ],
      "execution_count": 18,
      "outputs": [
        {
          "output_type": "execute_result",
          "data": {
            "text/html": [
              "<div>\n",
              "<style scoped>\n",
              "    .dataframe tbody tr th:only-of-type {\n",
              "        vertical-align: middle;\n",
              "    }\n",
              "\n",
              "    .dataframe tbody tr th {\n",
              "        vertical-align: top;\n",
              "    }\n",
              "\n",
              "    .dataframe thead th {\n",
              "        text-align: right;\n",
              "    }\n",
              "</style>\n",
              "<table border=\"1\" class=\"dataframe\">\n",
              "  <thead>\n",
              "    <tr style=\"text-align: right;\">\n",
              "      <th></th>\n",
              "      <th>Instagram Comment Text</th>\n",
              "      <th>Sentiment</th>\n",
              "    </tr>\n",
              "    <tr>\n",
              "      <th>Id</th>\n",
              "      <th></th>\n",
              "      <th></th>\n",
              "    </tr>\n",
              "  </thead>\n",
              "  <tbody>\n",
              "    <tr>\n",
              "      <th>1</th>\n",
              "      <td>&lt;USERNAME&gt; TOLOL!! Gak ada hubungan nya kegug...</td>\n",
              "      <td>negative</td>\n",
              "    </tr>\n",
              "    <tr>\n",
              "      <th>2</th>\n",
              "      <td>Geblek lo tata...cowo bgt dibela2in balikan......</td>\n",
              "      <td>negative</td>\n",
              "    </tr>\n",
              "    <tr>\n",
              "      <th>3</th>\n",
              "      <td>Kmrn termewek2 skr lengket lg duhhh kok labil ...</td>\n",
              "      <td>negative</td>\n",
              "    </tr>\n",
              "    <tr>\n",
              "      <th>4</th>\n",
              "      <td>Intinya kalau kesel dengan ATT nya, gausah ke ...</td>\n",
              "      <td>negative</td>\n",
              "    </tr>\n",
              "    <tr>\n",
              "      <th>5</th>\n",
              "      <td>hadewwwww permpuan itu lg!!!!sakit jiwa,knp ha...</td>\n",
              "      <td>negative</td>\n",
              "    </tr>\n",
              "  </tbody>\n",
              "</table>\n",
              "</div>"
            ],
            "text/plain": [
              "                               Instagram Comment Text Sentiment\n",
              "Id                                                             \n",
              "1    <USERNAME> TOLOL!! Gak ada hubungan nya kegug...  negative\n",
              "2   Geblek lo tata...cowo bgt dibela2in balikan......  negative\n",
              "3   Kmrn termewek2 skr lengket lg duhhh kok labil ...  negative\n",
              "4   Intinya kalau kesel dengan ATT nya, gausah ke ...  negative\n",
              "5   hadewwwww permpuan itu lg!!!!sakit jiwa,knp ha...  negative"
            ]
          },
          "metadata": {},
          "execution_count": 18
        }
      ]
    },
    {
      "cell_type": "code",
      "metadata": {
        "id": "48yPEU-3dQDT"
      },
      "source": [
        "y = [0 if i=='negative' else 1 for i in data['Sentiment']]\n",
        "x = data['Instagram Comment Text']"
      ],
      "execution_count": 19,
      "outputs": []
    },
    {
      "cell_type": "code",
      "metadata": {
        "colab": {
          "base_uri": "https://localhost:8080/"
        },
        "id": "JQEfbNPSdSt_",
        "outputId": "10b7cf3a-0202-4c1d-e100-bf985f050d41"
      },
      "source": [
        "# Split Data\n",
        "\n",
        "X_train, X_test, y_train, y_test = train_test_split(x, y, test_size=0.30)\n",
        "\n",
        "len(y_test)"
      ],
      "execution_count": 64,
      "outputs": [
        {
          "output_type": "execute_result",
          "data": {
            "text/plain": [
              "120"
            ]
          },
          "metadata": {},
          "execution_count": 64
        }
      ]
    },
    {
      "cell_type": "code",
      "metadata": {
        "colab": {
          "base_uri": "https://localhost:8080/"
        },
        "id": "jSeoB0hudUSy",
        "outputId": "38ab1722-fd92-4287-833f-b26251f37d39"
      },
      "source": [
        "(unique, counts) = np.unique(y_test, return_counts=True)\n",
        "frequencies = np.asarray((unique, counts)).T\n",
        "print(frequencies)"
      ],
      "execution_count": 21,
      "outputs": [
        {
          "output_type": "stream",
          "name": "stdout",
          "text": [
            "[[ 0 61]\n",
            " [ 1 59]]\n"
          ]
        }
      ]
    },
    {
      "cell_type": "code",
      "metadata": {
        "id": "NZS670s-dWfM"
      },
      "source": [
        "# Model Configuration\n",
        "\n",
        "vocab_size = 10000\n",
        "embedding_dim = 16\n",
        "max_length = 100\n",
        "trunc_type='post'\n",
        "padding_type='post'\n",
        "oov_tok = \"<OOV>\""
      ],
      "execution_count": 22,
      "outputs": []
    },
    {
      "cell_type": "code",
      "metadata": {
        "id": "KaNSgX5YdXz-"
      },
      "source": [
        "# Preprocessing - Tokenization\n",
        "\n",
        "tokenizer = Tokenizer(num_words=vocab_size, oov_token=oov_tok)\n",
        "tokenizer.fit_on_texts(x)\n",
        "\n",
        "word_index = tokenizer.word_index\n",
        "\n",
        "training_sequences = tokenizer.texts_to_sequences(X_train)\n",
        "testing_sequences = tokenizer.texts_to_sequences(X_test)\n",
        "\n",
        "# Padding\n",
        "training_padded = pad_sequences(training_sequences, maxlen=max_length, padding='post', truncating='post')\n",
        "testing_padded = pad_sequences(testing_sequences, maxlen=max_length, padding='post', truncating='post')\n",
        "\n",
        "# COnvert to Numpy Array\n",
        "training_padded = np.array(training_padded)\n",
        "training_labels = np.array(y_train)\n",
        "\n",
        "testing_padded = np.array(testing_padded)\n",
        "testing_labels = np.array(y_test)"
      ],
      "execution_count": 23,
      "outputs": []
    },
    {
      "cell_type": "code",
      "metadata": {
        "id": "ZF9G0lbvdxR0"
      },
      "source": [
        "from sklearn.feature_extraction.text import TfidfVectorizer\n",
        "# Create feature vectors\n",
        "vectorizer = TfidfVectorizer(min_df = 5,\n",
        "                             max_df = 0.8,\n",
        "                             sublinear_tf = True,\n",
        "                             use_idf = True)\n",
        "train_vectors = vectorizer.fit_transform(X_train)\n",
        "test_vectors = vectorizer.transform(X_test)"
      ],
      "execution_count": 52,
      "outputs": []
    },
    {
      "cell_type": "code",
      "metadata": {
        "colab": {
          "base_uri": "https://localhost:8080/"
        },
        "id": "VHxu3wkjdZ8p",
        "outputId": "9a108b3d-fb52-475e-801f-5833c7faa82f"
      },
      "source": [
        "import time\n",
        "from sklearn import svm\n",
        "from sklearn.metrics import classification_report\n",
        "# Perform classification with SVM, kernel=linear\n",
        "classifier_linear = svm.SVC(kernel='linear')\n",
        "t0 = time.time()\n",
        "classifier_linear.fit(train_vectors, y_train)\n",
        "t1 = time.time()\n",
        "prediction_linear = classifier_linear.predict(test_vectors)\n",
        "t2 = time.time()\n",
        "time_linear_train = t1-t0\n",
        "time_linear_predict = t2-t1\n",
        "# results\n",
        "print(\"Training time: %fs; Prediction time: %fs\" % (time_linear_train, time_linear_predict))\n",
        "report = classification_report(y_test, prediction_linear, output_dict=True)\n",
        "# print(report)\n",
        "print('positive: ', report['1'])\n",
        "print('negative: ', report['0'])"
      ],
      "execution_count": 72,
      "outputs": [
        {
          "output_type": "stream",
          "name": "stdout",
          "text": [
            "Training time: 0.015003s; Prediction time: 0.003581s\n",
            "positive:  {'precision': 0.574468085106383, 'recall': 0.421875, 'f1-score': 0.4864864864864865, 'support': 64}\n",
            "negative:  {'precision': 0.4931506849315068, 'recall': 0.6428571428571429, 'f1-score': 0.5581395348837208, 'support': 56}\n"
          ]
        }
      ]
    },
    {
      "cell_type": "code",
      "metadata": {
        "colab": {
          "base_uri": "https://localhost:8080/"
        },
        "id": "otjoeDbgdidy",
        "outputId": "70eb3f97-6957-4376-cf35-97b5539f1d8b"
      },
      "source": [
        "import re\n",
        "def preprocessing(string):\n",
        "  # Jadikan lowercase semua\n",
        "  string = string.lower()\n",
        "  # mention\n",
        "  string = re.sub(\"@[A-Za-z0-9]+\", '', string)\n",
        "  # Hapus link dari tweet\n",
        "  string = re.sub(r'https?://\\S+', '', string)\n",
        "  # Hapus non letter seperti emoji\n",
        "  string = re.sub(r\"[^a-z\\s\\(\\-:\\)\\\\\\/\\];='#]\", '', string)\n",
        "  # Hashtag\n",
        "  string = re.sub('#|_', '', string)\n",
        "  return string\n",
        "\n",
        "dor = preprocessing(\"hahahaha @redi aneh bangettt #hehe https://www.google.com\")\n",
        "print(dor)"
      ],
      "execution_count": 73,
      "outputs": [
        {
          "output_type": "stream",
          "name": "stdout",
          "text": [
            "hahahaha  aneh bangettt hehe \n"
          ]
        }
      ]
    },
    {
      "cell_type": "code",
      "metadata": {
        "colab": {
          "base_uri": "https://localhost:8080/"
        },
        "id": "Vq1mHQQ7di7W",
        "outputId": "91d9876c-658a-426c-b249-9819eb570f3a"
      },
      "source": [
        "tweet = \"\"\" ini orang omongannya gak bisa dijaga kali ya @akunbuzzer \"\"\"\n",
        "# tweet = \"\"\" halo @amandaeliora apa kabar \"\"\"\n",
        "tweet = preprocessing(tweet)\n",
        "review_vector = vectorizer.transform([tweet]) # vectorizing\n",
        "if(classifier_linear.predict(review_vector)==[1]):\n",
        "  print(\"Sentimen positif\")\n",
        "else:\n",
        "  print(\"Sentimen negatif\")"
      ],
      "execution_count": 83,
      "outputs": [
        {
          "output_type": "stream",
          "name": "stdout",
          "text": [
            "Sentimen negatif\n"
          ]
        }
      ]
    }
  ]
}