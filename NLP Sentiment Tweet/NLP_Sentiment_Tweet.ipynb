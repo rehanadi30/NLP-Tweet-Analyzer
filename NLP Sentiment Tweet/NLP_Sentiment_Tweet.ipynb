{
  "nbformat": 4,
  "nbformat_minor": 0,
  "metadata": {
    "colab": {
      "name": "NLP Sentiment Tweet.ipynb",
      "provenance": [],
      "collapsed_sections": []
    },
    "kernelspec": {
      "name": "python3",
      "display_name": "Python 3"
    },
    "language_info": {
      "name": "python"
    }
  },
  "cells": [
    {
      "cell_type": "markdown",
      "metadata": {
        "id": "ueEbgcSrWF9D"
      },
      "source": [
        "# Tweet Sentiment Analyzer\n",
        "\n",
        "Made by: Rehan Adi Satrya - 13518061\n",
        "\n",
        "Tujuan dari aplikasi ini adalah agar pengguna dapat mengetahui apakah ketikan mereka pada media sosial berpotensi menyakiti seseorang"
      ]
    },
    {
      "cell_type": "code",
      "metadata": {
        "id": "dW-BPsHqdAlj"
      },
      "source": [
        "#Import Library yang dibutuhkan\n",
        "import pandas as pd\n",
        "import numpy as np\n",
        "import matplotlib.pyplot as plt\n",
        "import random\n",
        "import tensorflow as tf\n",
        "\n",
        "from numpy import array\n",
        "from sklearn.model_selection import train_test_split\n",
        "\n",
        "from tensorflow.keras import regularizers\n",
        "from tensorflow.keras.utils import to_categorical\n",
        "from tensorflow.keras.preprocessing.text import Tokenizer\n",
        "from tensorflow.keras.preprocessing.sequence import pad_sequences\n"
      ],
      "execution_count": 197,
      "outputs": []
    },
    {
      "cell_type": "code",
      "metadata": {
        "colab": {
          "base_uri": "https://localhost:8080/",
          "height": 235
        },
        "id": "gPKUousQlFM-",
        "outputId": "2feb2e3b-6478-462f-f7ea-dd549de74ecf"
      },
      "source": [
        "# Load Dataset\n",
        "data = pd.read_csv('dataset_two.csv', index_col=0)\n",
        "data = data[['Instagram Comment Text', 'Sentiment']]\n",
        "data.head()"
      ],
      "execution_count": 198,
      "outputs": [
        {
          "output_type": "execute_result",
          "data": {
            "text/html": [
              "<div>\n",
              "<style scoped>\n",
              "    .dataframe tbody tr th:only-of-type {\n",
              "        vertical-align: middle;\n",
              "    }\n",
              "\n",
              "    .dataframe tbody tr th {\n",
              "        vertical-align: top;\n",
              "    }\n",
              "\n",
              "    .dataframe thead th {\n",
              "        text-align: right;\n",
              "    }\n",
              "</style>\n",
              "<table border=\"1\" class=\"dataframe\">\n",
              "  <thead>\n",
              "    <tr style=\"text-align: right;\">\n",
              "      <th></th>\n",
              "      <th>Instagram Comment Text</th>\n",
              "      <th>Sentiment</th>\n",
              "    </tr>\n",
              "    <tr>\n",
              "      <th>Id</th>\n",
              "      <th></th>\n",
              "      <th></th>\n",
              "    </tr>\n",
              "  </thead>\n",
              "  <tbody>\n",
              "    <tr>\n",
              "      <th>1</th>\n",
              "      <td>&lt;USERNAME&gt; TOLOL!! Gak ada hubungan nya kegug...</td>\n",
              "      <td>negative</td>\n",
              "    </tr>\n",
              "    <tr>\n",
              "      <th>2</th>\n",
              "      <td>Geblek lo tata...cowo bgt dibela2in balikan......</td>\n",
              "      <td>negative</td>\n",
              "    </tr>\n",
              "    <tr>\n",
              "      <th>3</th>\n",
              "      <td>Kmrn termewek2 skr lengket lg duhhh kok labil ...</td>\n",
              "      <td>negative</td>\n",
              "    </tr>\n",
              "    <tr>\n",
              "      <th>4</th>\n",
              "      <td>Intinya kalau kesel dengan ATT nya, gausah ke ...</td>\n",
              "      <td>negative</td>\n",
              "    </tr>\n",
              "    <tr>\n",
              "      <th>5</th>\n",
              "      <td>hadewwwww permpuan itu lg!!!!sakit jiwa,knp ha...</td>\n",
              "      <td>negative</td>\n",
              "    </tr>\n",
              "  </tbody>\n",
              "</table>\n",
              "</div>"
            ],
            "text/plain": [
              "                               Instagram Comment Text Sentiment\n",
              "Id                                                             \n",
              "1    <USERNAME> TOLOL!! Gak ada hubungan nya kegug...  negative\n",
              "2   Geblek lo tata...cowo bgt dibela2in balikan......  negative\n",
              "3   Kmrn termewek2 skr lengket lg duhhh kok labil ...  negative\n",
              "4   Intinya kalau kesel dengan ATT nya, gausah ke ...  negative\n",
              "5   hadewwwww permpuan itu lg!!!!sakit jiwa,knp ha...  negative"
            ]
          },
          "metadata": {},
          "execution_count": 198
        }
      ]
    },
    {
      "cell_type": "code",
      "metadata": {
        "id": "ma4bmRnilTrl"
      },
      "source": [
        "y = [0 if i=='negative' else 1 for i in data['Sentiment']]\n",
        "x = data['Instagram Comment Text']"
      ],
      "execution_count": 199,
      "outputs": []
    },
    {
      "cell_type": "code",
      "metadata": {
        "id": "opO739k6AmYq"
      },
      "source": [
        "# Split Data\n",
        "\n",
        "X_train, X_test, y_train, y_test = train_test_split(x, y, test_size=0.30)"
      ],
      "execution_count": 200,
      "outputs": []
    },
    {
      "cell_type": "code",
      "metadata": {
        "colab": {
          "base_uri": "https://localhost:8080/"
        },
        "id": "w6b0r4SpAxLx",
        "outputId": "5c7cc294-ee8b-45b4-ab1b-3e58971ab26b"
      },
      "source": [
        "(unique, counts) = np.unique(y_test, return_counts=True)\n",
        "frequencies = np.asarray((unique, counts)).T\n",
        "print(frequencies)"
      ],
      "execution_count": 201,
      "outputs": [
        {
          "output_type": "stream",
          "name": "stdout",
          "text": [
            "[[ 0 55]\n",
            " [ 1 65]]\n"
          ]
        }
      ]
    },
    {
      "cell_type": "code",
      "metadata": {
        "id": "lloB79mVBKBo"
      },
      "source": [
        "# Model Configuration\n",
        "\n",
        "vocab_size = 10000\n",
        "embedding_dim = 16\n",
        "max_length = 100\n",
        "trunc_type='post'\n",
        "padding_type='post'\n",
        "oov_tok = \"<OOV>\""
      ],
      "execution_count": 202,
      "outputs": []
    },
    {
      "cell_type": "code",
      "metadata": {
        "id": "jow0cKkVCQVB"
      },
      "source": [
        "# Preprocessing - Tokenization\n",
        "\n",
        "tokenizer = Tokenizer(num_words=vocab_size, oov_token=oov_tok)\n",
        "tokenizer.fit_on_texts(x)\n",
        "\n",
        "word_index = tokenizer.word_index\n",
        "\n",
        "training_sequences = tokenizer.texts_to_sequences(X_train)\n",
        "testing_sequences = tokenizer.texts_to_sequences(X_test)\n",
        "\n",
        "# Padding\n",
        "training_padded = pad_sequences(training_sequences, maxlen=max_length, padding='post', truncating='post')\n",
        "testing_padded = pad_sequences(testing_sequences, maxlen=max_length, padding='post', truncating='post')\n",
        "\n",
        "# COnvert to Numpy Array\n",
        "training_padded = np.array(training_padded)\n",
        "training_labels = np.array(y_train)\n",
        "\n",
        "testing_padded = np.array(testing_padded)\n",
        "testing_labels = np.array(y_test)"
      ],
      "execution_count": 203,
      "outputs": []
    },
    {
      "cell_type": "code",
      "metadata": {
        "id": "-I0WGkevH_RK"
      },
      "source": [
        "# Model\n",
        "model = tf.keras.Sequential([\n",
        "                             tf.keras.layers.Embedding(vocab_size, embedding_dim, input_length=max_length),\n",
        "                             tf.keras.layers.GlobalAveragePooling1D(),\n",
        "                             tf.keras.layers.Dense(24, activation='sigmoid'),\n",
        "                             tf.keras.layers.Dropout(0.5),\n",
        "                             tf.keras.layers.Dense(1, activation='sigmoid')\n",
        "])\n",
        "model.compile(loss='binary_crossentropy', optimizer='nadam', metrics=['accuracy'])"
      ],
      "execution_count": 204,
      "outputs": []
    },
    {
      "cell_type": "code",
      "metadata": {
        "colab": {
          "base_uri": "https://localhost:8080/"
        },
        "id": "wa6DHl3EI35d",
        "outputId": "ea21dfad-a3b6-4733-c84c-0d74bfcdfcb1"
      },
      "source": [
        "# Training\n",
        "\n",
        "num_epoch = 100\n",
        "history = model.fit(training_padded, training_labels, batch_size = 32, epochs=num_epoch)\n",
        "print(history.history.keys())"
      ],
      "execution_count": 205,
      "outputs": [
        {
          "output_type": "stream",
          "name": "stdout",
          "text": [
            "Epoch 1/100\n",
            "9/9 [==============================] - 1s 5ms/step - loss: 0.7595 - accuracy: 0.4821\n",
            "Epoch 2/100\n",
            "9/9 [==============================] - 0s 4ms/step - loss: 0.7327 - accuracy: 0.5250\n",
            "Epoch 3/100\n",
            "9/9 [==============================] - 0s 4ms/step - loss: 0.7604 - accuracy: 0.4964\n",
            "Epoch 4/100\n",
            "9/9 [==============================] - 0s 5ms/step - loss: 0.7265 - accuracy: 0.5321\n",
            "Epoch 5/100\n",
            "9/9 [==============================] - 0s 3ms/step - loss: 0.7382 - accuracy: 0.4714\n",
            "Epoch 6/100\n",
            "9/9 [==============================] - 0s 4ms/step - loss: 0.7404 - accuracy: 0.5107\n",
            "Epoch 7/100\n",
            "9/9 [==============================] - 0s 4ms/step - loss: 0.7561 - accuracy: 0.4750\n",
            "Epoch 8/100\n",
            "9/9 [==============================] - 0s 4ms/step - loss: 0.7346 - accuracy: 0.5321\n",
            "Epoch 9/100\n",
            "9/9 [==============================] - 0s 4ms/step - loss: 0.7585 - accuracy: 0.4893\n",
            "Epoch 10/100\n",
            "9/9 [==============================] - 0s 4ms/step - loss: 0.7416 - accuracy: 0.4964\n",
            "Epoch 11/100\n",
            "9/9 [==============================] - 0s 4ms/step - loss: 0.7661 - accuracy: 0.4679\n",
            "Epoch 12/100\n",
            "9/9 [==============================] - 0s 5ms/step - loss: 0.7258 - accuracy: 0.5464\n",
            "Epoch 13/100\n",
            "9/9 [==============================] - 0s 4ms/step - loss: 0.7417 - accuracy: 0.5250\n",
            "Epoch 14/100\n",
            "9/9 [==============================] - 0s 4ms/step - loss: 0.7477 - accuracy: 0.5036\n",
            "Epoch 15/100\n",
            "9/9 [==============================] - 0s 8ms/step - loss: 0.7266 - accuracy: 0.5321\n",
            "Epoch 16/100\n",
            "9/9 [==============================] - 0s 5ms/step - loss: 0.7511 - accuracy: 0.4821\n",
            "Epoch 17/100\n",
            "9/9 [==============================] - 0s 4ms/step - loss: 0.7061 - accuracy: 0.5250\n",
            "Epoch 18/100\n",
            "9/9 [==============================] - 0s 4ms/step - loss: 0.7317 - accuracy: 0.5214\n",
            "Epoch 19/100\n",
            "9/9 [==============================] - 0s 4ms/step - loss: 0.6944 - accuracy: 0.5571\n",
            "Epoch 20/100\n",
            "9/9 [==============================] - 0s 4ms/step - loss: 0.6831 - accuracy: 0.5714\n",
            "Epoch 21/100\n",
            "9/9 [==============================] - 0s 3ms/step - loss: 0.7243 - accuracy: 0.5214\n",
            "Epoch 22/100\n",
            "9/9 [==============================] - 0s 4ms/step - loss: 0.7492 - accuracy: 0.4714\n",
            "Epoch 23/100\n",
            "9/9 [==============================] - 0s 4ms/step - loss: 0.7102 - accuracy: 0.5179\n",
            "Epoch 24/100\n",
            "9/9 [==============================] - 0s 4ms/step - loss: 0.6772 - accuracy: 0.5643\n",
            "Epoch 25/100\n",
            "9/9 [==============================] - 0s 4ms/step - loss: 0.7278 - accuracy: 0.4750\n",
            "Epoch 26/100\n",
            "9/9 [==============================] - 0s 4ms/step - loss: 0.7435 - accuracy: 0.4893\n",
            "Epoch 27/100\n",
            "9/9 [==============================] - 0s 5ms/step - loss: 0.7412 - accuracy: 0.4786\n",
            "Epoch 28/100\n",
            "9/9 [==============================] - 0s 4ms/step - loss: 0.6678 - accuracy: 0.6107\n",
            "Epoch 29/100\n",
            "9/9 [==============================] - 0s 5ms/step - loss: 0.6776 - accuracy: 0.6036\n",
            "Epoch 30/100\n",
            "9/9 [==============================] - 0s 4ms/step - loss: 0.6897 - accuracy: 0.5571\n",
            "Epoch 31/100\n",
            "9/9 [==============================] - 0s 4ms/step - loss: 0.6934 - accuracy: 0.5214\n",
            "Epoch 32/100\n",
            "9/9 [==============================] - 0s 4ms/step - loss: 0.7025 - accuracy: 0.5179\n",
            "Epoch 33/100\n",
            "9/9 [==============================] - 0s 4ms/step - loss: 0.6791 - accuracy: 0.5464\n",
            "Epoch 34/100\n",
            "9/9 [==============================] - 0s 4ms/step - loss: 0.6845 - accuracy: 0.5357\n",
            "Epoch 35/100\n",
            "9/9 [==============================] - 0s 4ms/step - loss: 0.6805 - accuracy: 0.5857\n",
            "Epoch 36/100\n",
            "9/9 [==============================] - 0s 4ms/step - loss: 0.6768 - accuracy: 0.5500\n",
            "Epoch 37/100\n",
            "9/9 [==============================] - 0s 5ms/step - loss: 0.6656 - accuracy: 0.6036\n",
            "Epoch 38/100\n",
            "9/9 [==============================] - 0s 4ms/step - loss: 0.6884 - accuracy: 0.5357\n",
            "Epoch 39/100\n",
            "9/9 [==============================] - 0s 4ms/step - loss: 0.7040 - accuracy: 0.5321\n",
            "Epoch 40/100\n",
            "9/9 [==============================] - 0s 4ms/step - loss: 0.6749 - accuracy: 0.5893\n",
            "Epoch 41/100\n",
            "9/9 [==============================] - 0s 5ms/step - loss: 0.6612 - accuracy: 0.5929\n",
            "Epoch 42/100\n",
            "9/9 [==============================] - 0s 4ms/step - loss: 0.6688 - accuracy: 0.5821\n",
            "Epoch 43/100\n",
            "9/9 [==============================] - 0s 4ms/step - loss: 0.6545 - accuracy: 0.6107\n",
            "Epoch 44/100\n",
            "9/9 [==============================] - 0s 4ms/step - loss: 0.6565 - accuracy: 0.6036\n",
            "Epoch 45/100\n",
            "9/9 [==============================] - 0s 5ms/step - loss: 0.6628 - accuracy: 0.6179\n",
            "Epoch 46/100\n",
            "9/9 [==============================] - 0s 4ms/step - loss: 0.6509 - accuracy: 0.6571\n",
            "Epoch 47/100\n",
            "9/9 [==============================] - 0s 4ms/step - loss: 0.6513 - accuracy: 0.5857\n",
            "Epoch 48/100\n",
            "9/9 [==============================] - 0s 4ms/step - loss: 0.6588 - accuracy: 0.6214\n",
            "Epoch 49/100\n",
            "9/9 [==============================] - 0s 4ms/step - loss: 0.6355 - accuracy: 0.6286\n",
            "Epoch 50/100\n",
            "9/9 [==============================] - 0s 4ms/step - loss: 0.6217 - accuracy: 0.6714\n",
            "Epoch 51/100\n",
            "9/9 [==============================] - 0s 4ms/step - loss: 0.6168 - accuracy: 0.6786\n",
            "Epoch 52/100\n",
            "9/9 [==============================] - 0s 6ms/step - loss: 0.6263 - accuracy: 0.6679\n",
            "Epoch 53/100\n",
            "9/9 [==============================] - 0s 4ms/step - loss: 0.6067 - accuracy: 0.6786\n",
            "Epoch 54/100\n",
            "9/9 [==============================] - 0s 4ms/step - loss: 0.6086 - accuracy: 0.6536\n",
            "Epoch 55/100\n",
            "9/9 [==============================] - 0s 4ms/step - loss: 0.6117 - accuracy: 0.6857\n",
            "Epoch 56/100\n",
            "9/9 [==============================] - 0s 4ms/step - loss: 0.6003 - accuracy: 0.6893\n",
            "Epoch 57/100\n",
            "9/9 [==============================] - 0s 4ms/step - loss: 0.6108 - accuracy: 0.6750\n",
            "Epoch 58/100\n",
            "9/9 [==============================] - 0s 4ms/step - loss: 0.5874 - accuracy: 0.6929\n",
            "Epoch 59/100\n",
            "9/9 [==============================] - 0s 4ms/step - loss: 0.5936 - accuracy: 0.7000\n",
            "Epoch 60/100\n",
            "9/9 [==============================] - 0s 5ms/step - loss: 0.5935 - accuracy: 0.6786\n",
            "Epoch 61/100\n",
            "9/9 [==============================] - 0s 4ms/step - loss: 0.5740 - accuracy: 0.7143\n",
            "Epoch 62/100\n",
            "9/9 [==============================] - 0s 3ms/step - loss: 0.5943 - accuracy: 0.7071\n",
            "Epoch 63/100\n",
            "9/9 [==============================] - 0s 5ms/step - loss: 0.5939 - accuracy: 0.6821\n",
            "Epoch 64/100\n",
            "9/9 [==============================] - 0s 5ms/step - loss: 0.5947 - accuracy: 0.6500\n",
            "Epoch 65/100\n",
            "9/9 [==============================] - 0s 4ms/step - loss: 0.5830 - accuracy: 0.6857\n",
            "Epoch 66/100\n",
            "9/9 [==============================] - 0s 5ms/step - loss: 0.5581 - accuracy: 0.7321\n",
            "Epoch 67/100\n",
            "9/9 [==============================] - 0s 5ms/step - loss: 0.5645 - accuracy: 0.7250\n",
            "Epoch 68/100\n",
            "9/9 [==============================] - 0s 4ms/step - loss: 0.5280 - accuracy: 0.7571\n",
            "Epoch 69/100\n",
            "9/9 [==============================] - 0s 4ms/step - loss: 0.5093 - accuracy: 0.7929\n",
            "Epoch 70/100\n",
            "9/9 [==============================] - 0s 5ms/step - loss: 0.5554 - accuracy: 0.7071\n",
            "Epoch 71/100\n",
            "9/9 [==============================] - 0s 4ms/step - loss: 0.5046 - accuracy: 0.8000\n",
            "Epoch 72/100\n",
            "9/9 [==============================] - 0s 4ms/step - loss: 0.5185 - accuracy: 0.7714\n",
            "Epoch 73/100\n",
            "9/9 [==============================] - 0s 4ms/step - loss: 0.5210 - accuracy: 0.7393\n",
            "Epoch 74/100\n",
            "9/9 [==============================] - 0s 4ms/step - loss: 0.5236 - accuracy: 0.7643\n",
            "Epoch 75/100\n",
            "9/9 [==============================] - 0s 5ms/step - loss: 0.5119 - accuracy: 0.7750\n",
            "Epoch 76/100\n",
            "9/9 [==============================] - 0s 4ms/step - loss: 0.5249 - accuracy: 0.7679\n",
            "Epoch 77/100\n",
            "9/9 [==============================] - 0s 4ms/step - loss: 0.4823 - accuracy: 0.8179\n",
            "Epoch 78/100\n",
            "9/9 [==============================] - 0s 4ms/step - loss: 0.5079 - accuracy: 0.7679\n",
            "Epoch 79/100\n",
            "9/9 [==============================] - 0s 4ms/step - loss: 0.4674 - accuracy: 0.8286\n",
            "Epoch 80/100\n",
            "9/9 [==============================] - 0s 4ms/step - loss: 0.4749 - accuracy: 0.7857\n",
            "Epoch 81/100\n",
            "9/9 [==============================] - 0s 4ms/step - loss: 0.4940 - accuracy: 0.7893\n",
            "Epoch 82/100\n",
            "9/9 [==============================] - 0s 4ms/step - loss: 0.4639 - accuracy: 0.8071\n",
            "Epoch 83/100\n",
            "9/9 [==============================] - 0s 4ms/step - loss: 0.4541 - accuracy: 0.8071\n",
            "Epoch 84/100\n",
            "9/9 [==============================] - 0s 4ms/step - loss: 0.4816 - accuracy: 0.8071\n",
            "Epoch 85/100\n",
            "9/9 [==============================] - 0s 4ms/step - loss: 0.4441 - accuracy: 0.8393\n",
            "Epoch 86/100\n",
            "9/9 [==============================] - 0s 5ms/step - loss: 0.4095 - accuracy: 0.8571\n",
            "Epoch 87/100\n",
            "9/9 [==============================] - 0s 4ms/step - loss: 0.4265 - accuracy: 0.8357\n",
            "Epoch 88/100\n",
            "9/9 [==============================] - 0s 4ms/step - loss: 0.4361 - accuracy: 0.8464\n",
            "Epoch 89/100\n",
            "9/9 [==============================] - 0s 5ms/step - loss: 0.4013 - accuracy: 0.8893\n",
            "Epoch 90/100\n",
            "9/9 [==============================] - 0s 5ms/step - loss: 0.4280 - accuracy: 0.8214\n",
            "Epoch 91/100\n",
            "9/9 [==============================] - 0s 5ms/step - loss: 0.4104 - accuracy: 0.8500\n",
            "Epoch 92/100\n",
            "9/9 [==============================] - 0s 4ms/step - loss: 0.3819 - accuracy: 0.8714\n",
            "Epoch 93/100\n",
            "9/9 [==============================] - 0s 4ms/step - loss: 0.3774 - accuracy: 0.8607\n",
            "Epoch 94/100\n",
            "9/9 [==============================] - 0s 4ms/step - loss: 0.4124 - accuracy: 0.8500\n",
            "Epoch 95/100\n",
            "9/9 [==============================] - 0s 4ms/step - loss: 0.3793 - accuracy: 0.8750\n",
            "Epoch 96/100\n",
            "9/9 [==============================] - 0s 4ms/step - loss: 0.3327 - accuracy: 0.9036\n",
            "Epoch 97/100\n",
            "9/9 [==============================] - 0s 4ms/step - loss: 0.3843 - accuracy: 0.8500\n",
            "Epoch 98/100\n",
            "9/9 [==============================] - 0s 5ms/step - loss: 0.3862 - accuracy: 0.8500\n",
            "Epoch 99/100\n",
            "9/9 [==============================] - 0s 4ms/step - loss: 0.3510 - accuracy: 0.8750\n",
            "Epoch 100/100\n",
            "9/9 [==============================] - 0s 4ms/step - loss: 0.3457 - accuracy: 0.9000\n",
            "dict_keys(['loss', 'accuracy'])\n"
          ]
        }
      ]
    },
    {
      "cell_type": "code",
      "metadata": {
        "colab": {
          "base_uri": "https://localhost:8080/"
        },
        "id": "a0efpr-LECLb",
        "outputId": "e625329c-ae9a-468c-d15f-37f72dab96c4"
      },
      "source": [
        "import re\n",
        "def preprocessing(string):\n",
        "  # Jadikan lowercase semua\n",
        "  string = string.lower()\n",
        "  # mention\n",
        "  string = re.sub(\"@[A-Za-z0-9]+\", '', string)\n",
        "  # Hapus link dari tweet\n",
        "  string = re.sub(r'https?://\\S+', '', string)\n",
        "  # Hapus non letter seperti emoji\n",
        "  string = re.sub(r\"[^a-z\\s\\(\\-:\\)\\\\\\/\\];='#]\", '', string)\n",
        "  # Hashtag\n",
        "  string = re.sub('#|_', '', string)\n",
        "  return string\n",
        "\n",
        "dor = preprocessing(\"hahahaha @redi aneh bangettt #hehe https://www.google.com\")\n",
        "print(dor)"
      ],
      "execution_count": 207,
      "outputs": [
        {
          "output_type": "stream",
          "name": "stdout",
          "text": [
            "hahahaha  aneh bangettt hehe \n"
          ]
        }
      ]
    },
    {
      "cell_type": "code",
      "metadata": {
        "colab": {
          "base_uri": "https://localhost:8080/"
        },
        "id": "pdtLK5sMRZMf",
        "outputId": "495f161e-8d49-46a4-8ea0-91880e545852"
      },
      "source": [
        "tweet = \"\"\" ini orang omongannya gak bisa dijaga kali ya @akunbuzzer \"\"\"\n",
        "sentence = [preprocessing(tweet)]\n",
        "sequences = tokenizer.texts_to_sequences(sentence)\n",
        "padded = pad_sequences(sequences, maxlen=max_length, padding=padding_type, truncating=trunc_type)\n",
        "res = np.rint(model.predict(padded))\n",
        "if(res == [[0.]]):\n",
        "  print(\"Negatif\")\n",
        "else:\n",
        "  print(\"Positif\")"
      ],
      "execution_count": 217,
      "outputs": [
        {
          "output_type": "stream",
          "name": "stdout",
          "text": [
            "Negatif\n"
          ]
        }
      ]
    }
  ]
}